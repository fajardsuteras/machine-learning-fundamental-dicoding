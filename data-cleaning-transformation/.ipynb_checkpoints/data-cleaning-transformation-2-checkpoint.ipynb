{
 "cells": [
  {
   "cell_type": "code",
   "execution_count": 1,
   "id": "fd1f2b22-5c12-418c-9e56-186278bf97c9",
   "metadata": {},
   "outputs": [],
   "source": [
    "import pandas as pd"
   ]
  },
  {
   "cell_type": "code",
   "execution_count": 2,
   "id": "701bc637-4b1f-4946-b152-a867d94205e3",
   "metadata": {},
   "outputs": [],
   "source": [
    "train = pd.read_csv(\"contents/test.csv\")"
   ]
  },
  {
   "cell_type": "code",
   "execution_count": 3,
   "id": "38e30f04-af9f-4c62-b016-c65a34588b0b",
   "metadata": {},
   "outputs": [
    {
     "name": "stdout",
     "output_type": "stream",
     "text": [
      "<class 'pandas.core.frame.DataFrame'>\n",
      "RangeIndex: 1459 entries, 0 to 1458\n",
      "Data columns (total 21 columns):\n",
      " #   Column  Non-Null Count  Dtype  \n",
      "---  ------  --------------  -----  \n",
      " 0   Id      1459 non-null   int64  \n",
      " 1   A       1459 non-null   int64  \n",
      " 2   B       1455 non-null   object \n",
      " 3   C       1232 non-null   float64\n",
      " 4   D       1459 non-null   int64  \n",
      " 5   E       1459 non-null   object \n",
      " 6   F       107 non-null    object \n",
      " 7   G       1459 non-null   object \n",
      " 8   H       1459 non-null   object \n",
      " 9   I       1457 non-null   object \n",
      " 10  J       1459 non-null   object \n",
      " 11  K       1459 non-null   object \n",
      " 12  L       1459 non-null   object \n",
      " 13  M       1459 non-null   object \n",
      " 14  N       1459 non-null   object \n",
      " 15  O       1459 non-null   object \n",
      " 16  P       1459 non-null   object \n",
      " 17  Q       1459 non-null   int64  \n",
      " 18  R       1459 non-null   int64  \n",
      " 19  S       1459 non-null   int64  \n",
      " 20  T       1459 non-null   int64  \n",
      "dtypes: float64(1), int64(7), object(13)\n",
      "memory usage: 239.5+ KB\n"
     ]
    }
   ],
   "source": [
    "train.info()"
   ]
  }
 ],
 "metadata": {
  "kernelspec": {
   "display_name": "Python 3 (ipykernel)",
   "language": "python",
   "name": "python3"
  },
  "language_info": {
   "codemirror_mode": {
    "name": "ipython",
    "version": 3
   },
   "file_extension": ".py",
   "mimetype": "text/x-python",
   "name": "python",
   "nbconvert_exporter": "python",
   "pygments_lexer": "ipython3",
   "version": "3.10.6"
  }
 },
 "nbformat": 4,
 "nbformat_minor": 5
}
