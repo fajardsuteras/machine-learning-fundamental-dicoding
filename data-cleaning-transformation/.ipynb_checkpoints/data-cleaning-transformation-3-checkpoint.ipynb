{
 "cells": [
  {
   "cell_type": "code",
   "execution_count": 1,
   "id": "fd1f2b22-5c12-418c-9e56-186278bf97c9",
   "metadata": {},
   "outputs": [],
   "source": [
    "import pandas as pd"
   ]
  },
  {
   "cell_type": "code",
   "execution_count": 2,
   "id": "701bc637-4b1f-4946-b152-a867d94205e3",
   "metadata": {},
   "outputs": [],
   "source": [
    "train = pd.read_csv(\"contents/test.csv\")"
   ]
  },
  {
   "cell_type": "code",
   "execution_count": 3,
   "id": "38e30f04-af9f-4c62-b016-c65a34588b0b",
   "metadata": {},
   "outputs": [],
   "source": [
    "missing_values = train.isnull().sum()"
   ]
  },
  {
   "cell_type": "code",
   "execution_count": 4,
   "id": "4e43b454-3563-4308-b906-533c233796d2",
   "metadata": {},
   "outputs": [
    {
     "data": {
      "text/plain": [
       "B       4\n",
       "C     227\n",
       "F    1352\n",
       "I       2\n",
       "dtype: int64"
      ]
     },
     "execution_count": 4,
     "metadata": {},
     "output_type": "execute_result"
    }
   ],
   "source": [
    "missing_values[missing_values > 0]"
   ]
  }
 ],
 "metadata": {
  "kernelspec": {
   "display_name": "Python 3 (ipykernel)",
   "language": "python",
   "name": "python3"
  },
  "language_info": {
   "codemirror_mode": {
    "name": "ipython",
    "version": 3
   },
   "file_extension": ".py",
   "mimetype": "text/x-python",
   "name": "python",
   "nbconvert_exporter": "python",
   "pygments_lexer": "ipython3",
   "version": "3.10.6"
  }
 },
 "nbformat": 4,
 "nbformat_minor": 5
}
